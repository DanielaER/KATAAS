{
 "cells": [
  {
   "cell_type": "code",
   "execution_count": null,
   "metadata": {},
   "outputs": [],
   "source": []
  },
  {
   "cell_type": "markdown",
   "metadata": {},
   "source": [
    "# Ejercicio 1. While"
   ]
  },
  {
   "cell_type": "code",
   "execution_count": 2,
   "metadata": {},
   "outputs": [],
   "source": [
    "new_planet=\"\"\n",
    "planets=[]\n",
    "while new_planet.lower()!= \"done\":\n",
    "    if new_planet:\n",
    "        planets.append(new_planet)\n",
    "    new_planet=input(\"Ingresa un nuevo planeta\")\n",
    "\n",
    "\n"
   ]
  },
  {
   "cell_type": "code",
   "execution_count": 3,
   "metadata": {},
   "outputs": [
    {
     "name": "stdout",
     "output_type": "stream",
     "text": [
      "jupiter\n",
      "neptuno\n"
     ]
    }
   ],
   "source": [
    "for planet in planets:\n",
    "    print(planet)"
   ]
  }
 ],
 "metadata": {
  "interpreter": {
   "hash": "ba7b3d1ed1d9abf4213ca0af7b2edd4434565f77b5fe0a547b487d990e5a1cba"
  },
  "kernelspec": {
   "display_name": "Python 3.10.2 64-bit",
   "language": "python",
   "name": "python3"
  },
  "language_info": {
   "codemirror_mode": {
    "name": "ipython",
    "version": 3
   },
   "file_extension": ".py",
   "mimetype": "text/x-python",
   "name": "python",
   "nbconvert_exporter": "python",
   "pygments_lexer": "ipython3",
   "version": "3.10.2"
  },
  "orig_nbformat": 4
 },
 "nbformat": 4,
 "nbformat_minor": 2
}
